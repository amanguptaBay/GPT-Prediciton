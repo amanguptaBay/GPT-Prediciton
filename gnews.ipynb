{
 "cells": [
  {
   "cell_type": "markdown",
   "metadata": {},
   "source": []
  },
  {
   "cell_type": "code",
   "execution_count": 2,
   "metadata": {},
   "outputs": [],
   "source": [
    "from gnews import GNews"
   ]
  },
  {
   "cell_type": "code",
   "execution_count": 8,
   "metadata": {},
   "outputs": [],
   "source": [
    "google_news = GNews(language = \"en\", period = \"5y\", max_results=10)\n",
    "apple_news = google_news.get_news('Apple')"
   ]
  },
  {
   "cell_type": "code",
   "execution_count": 9,
   "metadata": {},
   "outputs": [],
   "source": []
  },
  {
   "cell_type": "code",
   "execution_count": 15,
   "metadata": {},
   "outputs": [
    {
     "data": {
      "text/plain": [
       "{'title': 'Apple previews Live Speech, Personal Voice, and more new accessibility features - Apple',\n",
       " 'description': 'Apple previews Live Speech, Personal Voice, and more new accessibility features  Apple',\n",
       " 'published date': 'Tue, 16 May 2023 07:00:00 GMT',\n",
       " 'url': 'https://news.google.com/rss/articles/CBMidWh0dHBzOi8vd3d3LmFwcGxlLmNvbS9uZXdzcm9vbS8yMDIzLzA1L2FwcGxlLXByZXZpZXdzLWxpdmUtc3BlZWNoLXBlcnNvbmFsLXZvaWNlLWFuZC1tb3JlLW5ldy1hY2Nlc3NpYmlsaXR5LWZlYXR1cmVzL9IBAA?oc=5&hl=en-US&gl=US&ceid=US:en',\n",
       " 'publisher': {'href': 'https://www.apple.com', 'title': 'Apple'}}"
      ]
     },
     "execution_count": 15,
     "metadata": {},
     "output_type": "execute_result"
    }
   ],
   "source": [
    "apple_news[-1]"
   ]
  },
  {
   "cell_type": "code",
   "execution_count": null,
   "metadata": {},
   "outputs": [],
   "source": []
  }
 ],
 "metadata": {
  "kernelspec": {
   "display_name": "ollama_lang_chrome_test",
   "language": "python",
   "name": "python3"
  },
  "language_info": {
   "codemirror_mode": {
    "name": "ipython",
    "version": 3
   },
   "file_extension": ".py",
   "mimetype": "text/x-python",
   "name": "python",
   "nbconvert_exporter": "python",
   "pygments_lexer": "ipython3",
   "version": "3.10.13"
  }
 },
 "nbformat": 4,
 "nbformat_minor": 2
}
