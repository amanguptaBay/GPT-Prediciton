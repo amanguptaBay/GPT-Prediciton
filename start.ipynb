{
 "cells": [
  {
   "cell_type": "code",
   "execution_count": 30,
   "metadata": {},
   "outputs": [],
   "source": [
    "import yfinance as yf\n",
    "import datetime\n",
    "import pandas as pd\n",
    "import seaborn"
   ]
  },
  {
   "cell_type": "markdown",
   "metadata": {},
   "source": [
    "Get AAPL Data"
   ]
  },
  {
   "cell_type": "code",
   "execution_count": 24,
   "metadata": {},
   "outputs": [
    {
     "name": "stderr",
     "output_type": "stream",
     "text": [
      "/Users/aman2/anaconda3/envs/ollama_lang_chrome_test/lib/python3.10/site-packages/yfinance/utils.py:775: FutureWarning: The 'unit' keyword in TimedeltaIndex construction is deprecated and will be removed in a future version. Use pd.to_timedelta instead.\n",
      "  df.index += _pd.TimedeltaIndex(dst_error_hours, 'h')\n"
     ]
    }
   ],
   "source": [
    "aapl = yf.Ticker(\"aapl\").history(period = \"5y\")"
   ]
  },
  {
   "cell_type": "markdown",
   "metadata": {},
   "source": [
    "Find how many of todays stocks the price is in terms of"
   ]
  },
  {
   "cell_type": "code",
   "execution_count": 25,
   "metadata": {},
   "outputs": [
    {
     "name": "stderr",
     "output_type": "stream",
     "text": [
      "/var/folders/b2/kj73pqdx4sxdntx6q_0yhbqh0000gp/T/ipykernel_20480/3800500856.py:2: SettingWithCopyWarning: \n",
      "A value is trying to be set on a copy of a slice from a DataFrame\n",
      "\n",
      "See the caveats in the documentation: https://pandas.pydata.org/pandas-docs/stable/user_guide/indexing.html#returning-a-view-versus-a-copy\n",
      "  stock_split_ratio[(stock_split_ratio == 0)] = 1\n"
     ]
    }
   ],
   "source": [
    "stock_split_ratio = aapl[\"Stock Splits\"]\n",
    "stock_split_ratio[(stock_split_ratio == 0)] = 1\n",
    "stock_split_ratio = pd.Series.cumprod(stock_split_ratio)\n",
    "aapl[\"Stock Ratio From Start\"] = stock_split_ratio"
   ]
  },
  {
   "cell_type": "markdown",
   "metadata": {},
   "source": [
    "Find Adjusted Close"
   ]
  },
  {
   "cell_type": "code",
   "execution_count": 28,
   "metadata": {},
   "outputs": [
    {
     "data": {
      "text/html": [
       "<div>\n",
       "<style scoped>\n",
       "    .dataframe tbody tr th:only-of-type {\n",
       "        vertical-align: middle;\n",
       "    }\n",
       "\n",
       "    .dataframe tbody tr th {\n",
       "        vertical-align: top;\n",
       "    }\n",
       "\n",
       "    .dataframe thead th {\n",
       "        text-align: right;\n",
       "    }\n",
       "</style>\n",
       "<table border=\"1\" class=\"dataframe\">\n",
       "  <thead>\n",
       "    <tr style=\"text-align: right;\">\n",
       "      <th></th>\n",
       "      <th>Open</th>\n",
       "      <th>High</th>\n",
       "      <th>Low</th>\n",
       "      <th>Close</th>\n",
       "      <th>Volume</th>\n",
       "      <th>Dividends</th>\n",
       "      <th>Stock Splits</th>\n",
       "      <th>Stock Ratio From Start</th>\n",
       "      <th>Adjusted Close</th>\n",
       "    </tr>\n",
       "    <tr>\n",
       "      <th>Date</th>\n",
       "      <th></th>\n",
       "      <th></th>\n",
       "      <th></th>\n",
       "      <th></th>\n",
       "      <th></th>\n",
       "      <th></th>\n",
       "      <th></th>\n",
       "      <th></th>\n",
       "      <th></th>\n",
       "    </tr>\n",
       "  </thead>\n",
       "  <tbody>\n",
       "    <tr>\n",
       "      <th>2019-02-11 00:00:00-05:00</th>\n",
       "      <td>41.219945</td>\n",
       "      <td>41.258503</td>\n",
       "      <td>40.786177</td>\n",
       "      <td>40.829552</td>\n",
       "      <td>83973600</td>\n",
       "      <td>0.0</td>\n",
       "      <td>1.0</td>\n",
       "      <td>1.0</td>\n",
       "      <td>40.829552</td>\n",
       "    </tr>\n",
       "    <tr>\n",
       "      <th>2019-02-12 00:00:00-05:00</th>\n",
       "      <td>40.991011</td>\n",
       "      <td>41.207893</td>\n",
       "      <td>40.894616</td>\n",
       "      <td>41.181385</td>\n",
       "      <td>89134000</td>\n",
       "      <td>0.0</td>\n",
       "      <td>1.0</td>\n",
       "      <td>1.0</td>\n",
       "      <td>41.181385</td>\n",
       "    </tr>\n",
       "    <tr>\n",
       "      <th>2019-02-13 00:00:00-05:00</th>\n",
       "      <td>41.301878</td>\n",
       "      <td>41.564547</td>\n",
       "      <td>40.947634</td>\n",
       "      <td>41.010288</td>\n",
       "      <td>89960800</td>\n",
       "      <td>0.0</td>\n",
       "      <td>1.0</td>\n",
       "      <td>1.0</td>\n",
       "      <td>41.010288</td>\n",
       "    </tr>\n",
       "    <tr>\n",
       "      <th>2019-02-14 00:00:00-05:00</th>\n",
       "      <td>40.897029</td>\n",
       "      <td>41.270548</td>\n",
       "      <td>40.817505</td>\n",
       "      <td>41.159698</td>\n",
       "      <td>87342800</td>\n",
       "      <td>0.0</td>\n",
       "      <td>1.0</td>\n",
       "      <td>1.0</td>\n",
       "      <td>41.159698</td>\n",
       "    </tr>\n",
       "    <tr>\n",
       "      <th>2019-02-15 00:00:00-05:00</th>\n",
       "      <td>41.268138</td>\n",
       "      <td>41.376579</td>\n",
       "      <td>40.906665</td>\n",
       "      <td>41.068123</td>\n",
       "      <td>98507200</td>\n",
       "      <td>0.0</td>\n",
       "      <td>1.0</td>\n",
       "      <td>1.0</td>\n",
       "      <td>41.068123</td>\n",
       "    </tr>\n",
       "    <tr>\n",
       "      <th>...</th>\n",
       "      <td>...</td>\n",
       "      <td>...</td>\n",
       "      <td>...</td>\n",
       "      <td>...</td>\n",
       "      <td>...</td>\n",
       "      <td>...</td>\n",
       "      <td>...</td>\n",
       "      <td>...</td>\n",
       "      <td>...</td>\n",
       "    </tr>\n",
       "    <tr>\n",
       "      <th>2024-02-05 00:00:00-05:00</th>\n",
       "      <td>188.149994</td>\n",
       "      <td>189.250000</td>\n",
       "      <td>185.839996</td>\n",
       "      <td>187.679993</td>\n",
       "      <td>69668800</td>\n",
       "      <td>0.0</td>\n",
       "      <td>1.0</td>\n",
       "      <td>4.0</td>\n",
       "      <td>46.919998</td>\n",
       "    </tr>\n",
       "    <tr>\n",
       "      <th>2024-02-06 00:00:00-05:00</th>\n",
       "      <td>186.860001</td>\n",
       "      <td>189.309998</td>\n",
       "      <td>186.770004</td>\n",
       "      <td>189.300003</td>\n",
       "      <td>43490800</td>\n",
       "      <td>0.0</td>\n",
       "      <td>1.0</td>\n",
       "      <td>4.0</td>\n",
       "      <td>47.325001</td>\n",
       "    </tr>\n",
       "    <tr>\n",
       "      <th>2024-02-07 00:00:00-05:00</th>\n",
       "      <td>190.639999</td>\n",
       "      <td>191.050003</td>\n",
       "      <td>188.610001</td>\n",
       "      <td>189.410004</td>\n",
       "      <td>53439000</td>\n",
       "      <td>0.0</td>\n",
       "      <td>1.0</td>\n",
       "      <td>4.0</td>\n",
       "      <td>47.352501</td>\n",
       "    </tr>\n",
       "    <tr>\n",
       "      <th>2024-02-08 00:00:00-05:00</th>\n",
       "      <td>189.389999</td>\n",
       "      <td>189.539993</td>\n",
       "      <td>187.350006</td>\n",
       "      <td>188.320007</td>\n",
       "      <td>40962000</td>\n",
       "      <td>0.0</td>\n",
       "      <td>1.0</td>\n",
       "      <td>4.0</td>\n",
       "      <td>47.080002</td>\n",
       "    </tr>\n",
       "    <tr>\n",
       "      <th>2024-02-09 00:00:00-05:00</th>\n",
       "      <td>188.649994</td>\n",
       "      <td>189.990005</td>\n",
       "      <td>188.000000</td>\n",
       "      <td>188.850006</td>\n",
       "      <td>43728065</td>\n",
       "      <td>0.0</td>\n",
       "      <td>1.0</td>\n",
       "      <td>4.0</td>\n",
       "      <td>47.212502</td>\n",
       "    </tr>\n",
       "  </tbody>\n",
       "</table>\n",
       "<p>1259 rows × 9 columns</p>\n",
       "</div>"
      ],
      "text/plain": [
       "                                 Open        High         Low       Close  \\\n",
       "Date                                                                        \n",
       "2019-02-11 00:00:00-05:00   41.219945   41.258503   40.786177   40.829552   \n",
       "2019-02-12 00:00:00-05:00   40.991011   41.207893   40.894616   41.181385   \n",
       "2019-02-13 00:00:00-05:00   41.301878   41.564547   40.947634   41.010288   \n",
       "2019-02-14 00:00:00-05:00   40.897029   41.270548   40.817505   41.159698   \n",
       "2019-02-15 00:00:00-05:00   41.268138   41.376579   40.906665   41.068123   \n",
       "...                               ...         ...         ...         ...   \n",
       "2024-02-05 00:00:00-05:00  188.149994  189.250000  185.839996  187.679993   \n",
       "2024-02-06 00:00:00-05:00  186.860001  189.309998  186.770004  189.300003   \n",
       "2024-02-07 00:00:00-05:00  190.639999  191.050003  188.610001  189.410004   \n",
       "2024-02-08 00:00:00-05:00  189.389999  189.539993  187.350006  188.320007   \n",
       "2024-02-09 00:00:00-05:00  188.649994  189.990005  188.000000  188.850006   \n",
       "\n",
       "                             Volume  Dividends  Stock Splits  \\\n",
       "Date                                                           \n",
       "2019-02-11 00:00:00-05:00  83973600        0.0           1.0   \n",
       "2019-02-12 00:00:00-05:00  89134000        0.0           1.0   \n",
       "2019-02-13 00:00:00-05:00  89960800        0.0           1.0   \n",
       "2019-02-14 00:00:00-05:00  87342800        0.0           1.0   \n",
       "2019-02-15 00:00:00-05:00  98507200        0.0           1.0   \n",
       "...                             ...        ...           ...   \n",
       "2024-02-05 00:00:00-05:00  69668800        0.0           1.0   \n",
       "2024-02-06 00:00:00-05:00  43490800        0.0           1.0   \n",
       "2024-02-07 00:00:00-05:00  53439000        0.0           1.0   \n",
       "2024-02-08 00:00:00-05:00  40962000        0.0           1.0   \n",
       "2024-02-09 00:00:00-05:00  43728065        0.0           1.0   \n",
       "\n",
       "                           Stock Ratio From Start  Adjusted Close  \n",
       "Date                                                               \n",
       "2019-02-11 00:00:00-05:00                     1.0       40.829552  \n",
       "2019-02-12 00:00:00-05:00                     1.0       41.181385  \n",
       "2019-02-13 00:00:00-05:00                     1.0       41.010288  \n",
       "2019-02-14 00:00:00-05:00                     1.0       41.159698  \n",
       "2019-02-15 00:00:00-05:00                     1.0       41.068123  \n",
       "...                                           ...             ...  \n",
       "2024-02-05 00:00:00-05:00                     4.0       46.919998  \n",
       "2024-02-06 00:00:00-05:00                     4.0       47.325001  \n",
       "2024-02-07 00:00:00-05:00                     4.0       47.352501  \n",
       "2024-02-08 00:00:00-05:00                     4.0       47.080002  \n",
       "2024-02-09 00:00:00-05:00                     4.0       47.212502  \n",
       "\n",
       "[1259 rows x 9 columns]"
      ]
     },
     "execution_count": 28,
     "metadata": {},
     "output_type": "execute_result"
    }
   ],
   "source": [
    "aapl[\"Adjusted Close\"] = aapl[\"Close\"]/aapl[\"Stock Ratio From Start\"]\n",
    "aapl"
   ]
  },
  {
   "cell_type": "code",
   "execution_count": 34,
   "metadata": {},
   "outputs": [
    {
     "data": {
      "text/plain": [
       "<Axes: xlabel='Date', ylabel='Adjusted Close'>"
      ]
     },
     "execution_count": 34,
     "metadata": {},
     "output_type": "execute_result"
    },
    {
     "data": {
      "image/png": "[encoded data removed]",
      "text/plain": [
       "<Figure size 640x480 with 1 Axes>"
      ]
     },
     "metadata": {},
     "output_type": "display_data"
    }
   ],
   "source": [
    "seaborn.lineplot(data = aapl, x = \"Date\", y = \"Close\")"
   ]
  },
  {
   "cell_type": "code",
   "execution_count": null,
   "metadata": {},
   "outputs": [],
   "source": []
  }
 ],
 "metadata": {
  "kernelspec": {
   "display_name": "Python 3",
   "language": "python",
   "name": "python3"
  },
  "language_info": {
   "codemirror_mode": {
    "name": "ipython",
    "version": 3
   },
   "file_extension": ".py",
   "mimetype": "text/x-python",
   "name": "python",
   "nbconvert_exporter": "python",
   "pygments_lexer": "ipython3",
   "version": "3.10.13"
  }
 },
 "nbformat": 4,
 "nbformat_minor": 2
}
